{
 "cells": [
  {
   "cell_type": "markdown",
   "id": "807e04e7",
   "metadata": {},
   "source": [
    "# Image-based Deepfake Detection using Xception\n",
    "This notebook extracts a single representative frame on-the-fly from video files and classifies them as real or fake using a CNN (Xception) model."
   ]
  },
  {
   "cell_type": "code",
   "execution_count": null,
   "id": "4760a10b",
   "metadata": {},
   "outputs": [],
   "source": [
    "\n",
    "import os\n",
    "import cv2\n",
    "import random\n",
    "import numpy as np\n",
    "import tensorflow as tf\n",
    "from sklearn.metrics import classification_report, confusion_matrix\n",
    "from sklearn.model_selection import train_test_split\n",
    "from tensorflow.keras.applications import Xception\n",
    "from tensorflow.keras.models import Model\n",
    "from tensorflow.keras.layers import Input, GlobalAveragePooling2D, Dense, Dropout\n",
    "from tensorflow.keras.callbacks import ReduceLROnPlateau, EarlyStopping, ModelCheckpoint\n",
    "\n",
    "# GPU memory growth setup\n",
    "gpus = tf.config.list_physical_devices('GPU')\n",
    "if gpus:\n",
    "    try:\n",
    "        tf.config.experimental.set_memory_growth(gpus[0], True)\n",
    "    except RuntimeError as e:\n",
    "        print(e)\n"
   ]
  },
  {
   "cell_type": "code",
   "execution_count": null,
   "id": "32a1b799",
   "metadata": {},
   "outputs": [],
   "source": [
    "\n",
    "real_paths = [\n",
    "    \"./dataset/original_sequences/actors/raw/videos\",\n",
    "    \"./dataset/original_sequences/youtube/raw/videos\"\n",
    "]\n",
    "\n",
    "fake_paths = [\n",
    "    \"./dataset/manipulated_sequences/DeepFakeDetection/raw/videos\",\n",
    "    \"./dataset/manipulated_sequences/Deepfakes/raw/videos\",\n",
    "    \"./dataset/manipulated_sequences/Face2Face/raw/videos\",\n",
    "    \"./dataset/manipulated_sequences/FaceSwap/raw/videos\",\n",
    "    \"./dataset/manipulated_sequences/NeuralTextures/raw/videos\",\n",
    "    \"./dataset/manipulated_sequences/FaceShifter/raw/videos\"\n",
    "]\n",
    "\n",
    "def list_videos(paths):\n",
    "    videos = []\n",
    "    for path in paths:\n",
    "        videos += [os.path.join(path, f) for f in os.listdir(path) if f.endswith(\".mp4\")]\n",
    "    return videos\n",
    "\n",
    "real_videos = list_videos(real_paths)\n",
    "fake_videos = list_videos(fake_paths)\n",
    "real_labels = [0] * len(real_videos)\n",
    "fake_labels = [1] * len(fake_videos)\n",
    "\n",
    "all_videos = real_videos + fake_videos\n",
    "all_labels = real_labels + fake_labels\n",
    "\n",
    "train_videos, test_videos, train_labels, test_labels = train_test_split(all_videos, all_labels, test_size=0.2, stratify=all_labels, random_state=42)\n"
   ]
  },
  {
   "cell_type": "code",
   "execution_count": null,
   "id": "ec0f61cd",
   "metadata": {},
   "outputs": [],
   "source": [
    "\n",
    "def extract_single_frame(video_path, resize=(160, 160)):\n",
    "    cap = cv2.VideoCapture(video_path)\n",
    "    total_frames = int(cap.get(cv2.CAP_PROP_FRAME_COUNT))\n",
    "    middle_frame = total_frames // 2\n",
    "    cap.set(cv2.CAP_PROP_POS_FRAMES, middle_frame)\n",
    "    ret, frame = cap.read()\n",
    "    cap.release()\n",
    "    if ret:\n",
    "        frame = cv2.resize(frame, resize)\n",
    "        frame = frame.astype(np.float32) / 255.0\n",
    "        return frame\n",
    "    else:\n",
    "        return np.zeros((*resize, 3), dtype=np.float32)\n"
   ]
  },
  {
   "cell_type": "code",
   "execution_count": null,
   "id": "a76af26d",
   "metadata": {},
   "outputs": [],
   "source": [
    "\n",
    "IMG_SIZE = (160, 160)\n",
    "BATCH = 32\n",
    "AUTOTUNE = tf.data.AUTOTUNE\n",
    "\n",
    "def frame_generator(video_list, label_list):\n",
    "    for path, label in zip(video_list, label_list):\n",
    "        frame = extract_single_frame(path, resize=IMG_SIZE)\n",
    "        yield frame, label\n",
    "\n",
    "def create_dataset(video_list, label_list):\n",
    "    dataset = tf.data.Dataset.from_generator(\n",
    "        lambda: frame_generator(video_list, label_list),\n",
    "        output_types=(tf.float32, tf.int32),\n",
    "        output_shapes=((IMG_SIZE[0], IMG_SIZE[1], 3), ())\n",
    "    )\n",
    "    return dataset.shuffle(1000).batch(BATCH).prefetch(AUTOTUNE)\n",
    "\n",
    "train_ds = create_dataset(train_videos, train_labels)\n",
    "test_ds = create_dataset(test_videos, test_labels)\n"
   ]
  },
  {
   "cell_type": "code",
   "execution_count": null,
   "id": "f80fc391",
   "metadata": {},
   "outputs": [],
   "source": [
    "os.makedirs(\"saved_model\", exist_ok=True)\n",
    "checkpoint_path = \"saved_model/best_model.h5\""
   ]
  },
  {
   "cell_type": "code",
   "execution_count": null,
   "id": "641fb6fa",
   "metadata": {},
   "outputs": [],
   "source": [
    "\n",
    "base_model = Xception(weights='imagenet', include_top=False, input_shape=(*IMG_SIZE, 3))\n",
    "base_model.trainable = False\n",
    "\n",
    "inputs = Input(shape=(*IMG_SIZE, 3))\n",
    "x = tf.keras.applications.xception.preprocess_input(inputs)\n",
    "x = base_model(x, training=False)\n",
    "x = GlobalAveragePooling2D()(x)\n",
    "x = Dense(256, activation='relu')(x)\n",
    "x = Dropout(0.5)(x)\n",
    "outputs = Dense(1, activation='sigmoid')(x)\n",
    "\n",
    "model = Model(inputs, outputs)\n",
    "model.compile(optimizer=tf.keras.optimizers.Adam(1e-4), loss='binary_crossentropy',\n",
    "              metrics=['accuracy', tf.keras.metrics.Precision(), tf.keras.metrics.Recall()])\n",
    "model.summary()\n"
   ]
  },
  {
   "cell_type": "code",
   "execution_count": null,
   "id": "29ed0f3e",
   "metadata": {},
   "outputs": [],
   "source": [
    "callbacks = [\n",
    "    ReduceLROnPlateau(monitor='val_loss', factor=0.5, patience=2),\n",
    "    EarlyStopping(monitor='val_loss', patience=5, restore_best_weights=True),\n",
    "    ModelCheckpoint(checkpoint_path, monitor='val_loss', save_best_only=True, verbose=1)\n",
    "]\n",
    "\n",
    "history = model.fit(\n",
    "    train_ds,\n",
    "    validation_data=test_ds,\n",
    "    epochs=20,\n",
    "    callbacks=callbacks\n",
    ")\n"
   ]
  },
  {
   "cell_type": "code",
   "execution_count": null,
   "id": "e867552e",
   "metadata": {},
   "outputs": [],
   "source": [
    "model.save(\"saved_model/final_model.keras\")\n"
   ]
  },
  {
   "cell_type": "code",
   "execution_count": null,
   "id": "6ea9ac41",
   "metadata": {},
   "outputs": [],
   "source": [
    "import matplotlib.pyplot as plt\n",
    "\n",
    "def plot_metrics(history):\n",
    "    metrics = ['accuracy', 'loss', 'precision', 'recall']\n",
    "    for metric in metrics:\n",
    "        plt.figure()\n",
    "        plt.plot(history.history[metric], label='train_' + metric)\n",
    "        plt.plot(history.history['val_' + metric], label='val_' + metric)\n",
    "        plt.title(f'{metric.capitalize()} Curve')\n",
    "        plt.xlabel('Epochs')\n",
    "        plt.ylabel(metric.capitalize())\n",
    "        plt.legend()\n",
    "        plt.grid(True)\n",
    "        plt.show()\n",
    "\n",
    "plot_metrics(history)\n"
   ]
  },
  {
   "cell_type": "code",
   "execution_count": null,
   "id": "db74d11a",
   "metadata": {},
   "outputs": [],
   "source": [
    "\n",
    "y_true = np.concatenate([y for _, y in test_ds])\n",
    "y_pred = (model.predict(test_ds) > 0.5).astype(int).ravel()\n",
    "print(classification_report(y_true, y_pred))\n",
    "print(\"Confusion Matrix:\\n\", confusion_matrix(y_true, y_pred))\n"
   ]
  },
  {
   "cell_type": "code",
   "execution_count": null,
   "id": "766ae70f",
   "metadata": {},
   "outputs": [],
   "source": [
    "from lime import lime_image\n",
    "from skimage.segmentation import mark_boundaries\n",
    "import matplotlib.pyplot as plt\n",
    "\n",
    "# Get one sample from test set\n",
    "for img_batch, label_batch in test_ds.take(1):\n",
    "    image = img_batch[0].numpy()\n",
    "    label = label_batch[0].numpy()\n",
    "\n",
    "# LIME expects function that returns probabilities\n",
    "def predict_fn(images):\n",
    "    return model.predict(np.array(images))\n",
    "\n",
    "explainer = lime_image.LimeImageExplainer()\n",
    "explanation = explainer.explain_instance(\n",
    "    image.astype('double'),\n",
    "    predict_fn,\n",
    "    top_labels=2,\n",
    "    hide_color=0,\n",
    "    num_samples=1000\n",
    ")\n",
    "\n",
    "temp, mask = explanation.get_image_and_mask(\n",
    "    label=int(label),\n",
    "    positive_only=True,\n",
    "    num_features=10,\n",
    "    hide_rest=False\n",
    ")\n",
    "\n",
    "plt.imshow(mark_boundaries(temp, mask))\n",
    "plt.title(f\"LIME Explanation - Label: {int(label)}\")\n",
    "plt.axis('off')\n",
    "plt.show()\n"
   ]
  }
 ],
 "metadata": {
  "language_info": {
   "name": "python"
  }
 },
 "nbformat": 4,
 "nbformat_minor": 5
}
